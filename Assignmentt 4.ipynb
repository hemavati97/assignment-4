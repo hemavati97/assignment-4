{
 "cells": [
  {
   "cell_type": "code",
   "execution_count": 9,
   "metadata": {},
   "outputs": [],
   "source": [
    "class Parent_Triangle():\n",
    "    def get_inputs(self):\n",
    "        print(\"give length of side a\")\n",
    "        self.a = float(input())\n",
    "        print(\"give length of side b\")\n",
    "        self.b = float(input())\n",
    "        print(\"give length of side c\")\n",
    "        self.c = float(input())\n",
    "class Child_Triangle(Parent_Triangle):\n",
    "    def get_area(self):\n",
    "        s = (self.a + self.b + self.c) / 2\n",
    "        area = (s*(s-self.a)*(s-self.b)*(s-self.c))**0.5\n",
    "        return area\n",
    "    "
   ]
  },
  {
   "cell_type": "code",
   "execution_count": 10,
   "metadata": {},
   "outputs": [],
   "source": [
    "triangle = Child_Triangle()"
   ]
  },
  {
   "cell_type": "code",
   "execution_count": 11,
   "metadata": {},
   "outputs": [
    {
     "name": "stdout",
     "output_type": "stream",
     "text": [
      "give length of side a\n",
      "9\n",
      "give length of side b\n",
      "7\n",
      "give length of side c\n",
      "8\n"
     ]
    }
   ],
   "source": [
    "triangle.get_inputs()"
   ]
  },
  {
   "cell_type": "code",
   "execution_count": 12,
   "metadata": {},
   "outputs": [
    {
     "data": {
      "text/plain": [
       "26.832815729997478"
      ]
     },
     "execution_count": 12,
     "metadata": {},
     "output_type": "execute_result"
    }
   ],
   "source": [
    "triangle.get_area()"
   ]
  },
  {
   "cell_type": "code",
   "execution_count": 17,
   "metadata": {},
   "outputs": [
    {
     "name": "stdout",
     "output_type": "stream",
     "text": [
      "['cde', 'erty']\n"
     ]
    }
   ],
   "source": [
    "list_of_words = ['ab', 'cde', 'erty']\n",
    "\n",
    "def filter_long_words(list_of_words, n):\n",
    "    return list(filter(lambda word: len(word) > n, list_of_words))\n",
    "\n",
    "print(filter_long_words(list_of_words, 2))"
   ]
  },
  {
   "cell_type": "code",
   "execution_count": 18,
   "metadata": {},
   "outputs": [
    {
     "name": "stdout",
     "output_type": "stream",
     "text": [
      "[2, 3, 4]\n"
     ]
    }
   ],
   "source": [
    "words_list = ['ab', 'cde', 'erty']\n",
    "\n",
    "def get_word_len(word):\n",
    "    return len(word)\n",
    "\n",
    "list_word_length = list(map(get_word_len, words_list))\n",
    "print(list_word_length)"
   ]
  },
  {
   "cell_type": "code",
   "execution_count": 20,
   "metadata": {},
   "outputs": [],
   "source": [
    "def check_vowel(charecter):\n",
    "    vowel='a','e','i','o','u'\n",
    "    if charecter == vowel[0] or  charecter == vowel[1] or charecter == vowel[2]  or charecter == vowel[3] or charecter == vowel[4]  :\n",
    "        return True\n",
    "    else :\n",
    "        return False"
   ]
  },
  {
   "cell_type": "code",
   "execution_count": 21,
   "metadata": {},
   "outputs": [
    {
     "name": "stdout",
     "output_type": "stream",
     "text": [
      "False\n"
     ]
    }
   ],
   "source": [
    "print(check_vowel('hema'))"
   ]
  },
  {
   "cell_type": "code",
   "execution_count": null,
   "metadata": {},
   "outputs": [],
   "source": []
  }
 ],
 "metadata": {
  "kernelspec": {
   "display_name": "Python 3",
   "language": "python",
   "name": "python3"
  },
  "language_info": {
   "codemirror_mode": {
    "name": "ipython",
    "version": 3
   },
   "file_extension": ".py",
   "mimetype": "text/x-python",
   "name": "python",
   "nbconvert_exporter": "python",
   "pygments_lexer": "ipython3",
   "version": "3.8.3"
  }
 },
 "nbformat": 4,
 "nbformat_minor": 4
}
